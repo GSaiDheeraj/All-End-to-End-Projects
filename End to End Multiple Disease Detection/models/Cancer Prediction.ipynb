{
 "cells": [
  {
   "cell_type": "markdown",
   "metadata": {},
   "source": [
    "Attribute Information:                                                                                                               \n",
    "\n",
    "1) ID number 2) Diagnosis (M = malignant, B = benign) 3-32)                                                                            \n",
    "\n",
    "Ten real-valued features are computed for each cell nucleus:\n",
    "\n",
    "1) radius (mean of distances from center to points on the perimeter)   \n",
    "2) texture (standard deviation of gray-scale values)                                                                           \n",
    "3) perimeter      \n",
    "4) area      \n",
    "5) smoothness (local variation in radius lengths)                                                         \n",
    "6) compactness (perimeter^2 / area - 1.0)                        \n",
    "7) concavity (severity of concave portions of the contour)      \n",
    "8) concave points (number of concave portions of the contour)      \n",
    "9) symmetry                                  \n",
    "10) fractal dimension (\"coastline approximation\" - 1)     \n",
    "\n",
    "The mean, standard error and \"worst\" or largest (mean of the three largest values) of these features were computed for each image, resulting in 30 features. For instance, field 3 is Mean Radius, field 13 is Radius SE, field 23 is Worst Radius.\n",
    "\n",
    "All feature values are recoded with four significant digits."
   ]
  },
  {
   "cell_type": "code",
   "execution_count": 2,
   "metadata": {},
   "outputs": [],
   "source": [
    "# Importing libraries\n",
    "import pandas as pd\n",
    "import numpy as np\n",
    "import matplotlib.pyplot as plt\n",
    "import seaborn as sns\n",
    "\n",
    "# Importing data\n",
    "data = pd.read_csv('C:/Users/saidh/Desktop/End to End Multiple Disease Detection/data/cancer.csv')\n",
    "del data['Unnamed: 32']"
   ]
  },
  {
   "cell_type": "code",
   "execution_count": 3,
   "metadata": {},
   "outputs": [],
   "source": [
    "X = data.iloc[:, 2:].values\n",
    "y = data.iloc[:, 1].values\n",
    "\n",
    "# Encoding categorical data\n",
    "from sklearn.preprocessing import LabelEncoder\n",
    "labelencoder_X_1 = LabelEncoder()\n",
    "y = labelencoder_X_1.fit_transform(y)\n",
    "\n",
    "# Splitting the dataset into the Training set and Test set\n",
    "from sklearn.model_selection import train_test_split\n",
    "X_train, X_test, y_train, y_test = train_test_split(X, y, test_size = 0.1, random_state = 0)\n",
    "\n",
    "#Feature Scaling\n",
    "from sklearn.preprocessing import StandardScaler\n",
    "sc = StandardScaler()\n",
    "X_train = sc.fit_transform(X_train)\n",
    "X_test = sc.transform(X_test)"
   ]
  },
  {
   "cell_type": "code",
   "execution_count": 5,
   "metadata": {},
   "outputs": [],
   "source": [
    "import keras\n",
    "from keras.models import Sequential\n",
    "from keras.layers import Dense, Dropout"
   ]
  },
  {
   "cell_type": "code",
   "execution_count": 6,
   "metadata": {},
   "outputs": [],
   "source": [
    "classifier = Sequential()"
   ]
  },
  {
   "cell_type": "markdown",
   "metadata": {},
   "source": [
    "input_dim - number of columns of the dataset\n",
    "\n",
    "output_dim - number of outputs to be fed to the next layer, if any\n",
    "\n",
    "activation - activation function which is ReLU in this case\n",
    "\n",
    "init - the way in which weights should be provided to an ANN\n",
    "\n",
    "The ReLU function is f(x)=max(0,x). Usually this is applied element-wise to the output of some other function, such as a matrix-vector product. In MLP usages, rectifier units replace all other activation functions except perhaps the readout layer. But I suppose you could mix-and-match them if you'd like. One way ReLUs improve neural networks is by speeding up training. The gradient computation is very simple (either 0 or 1 depending on the sign of x). Also, the computational step of a ReLU is easy: any negative elements are set to 0.0 -- no exponentials, no multiplication or division operations. Gradients of logistic and hyperbolic tangent networks are smaller than the positive portion of the ReLU. This means that the positive portion is updated more rapidly as training progresses. However, this comes at a cost. The 0 gradient on the left-hand side is has its own problem, called \"dead neurons,\" in which a gradient update sets the incoming values to a ReLU such that the output is always zero; modified ReLU units such as ELU (or Leaky ReLU etc.) can minimize this. Source : StackExchange"
   ]
  },
  {
   "cell_type": "code",
   "execution_count": 9,
   "metadata": {},
   "outputs": [
    {
     "name": "stderr",
     "output_type": "stream",
     "text": [
      "C:\\Users\\saidh\\miniconda3\\envs\\tensorflow\\lib\\site-packages\\ipykernel_launcher.py:1: UserWarning: Update your `Dense` call to the Keras 2 API: `Dense(activation=\"relu\", input_dim=30, units=16, kernel_initializer=\"uniform\")`\n",
      "  \"\"\"Entry point for launching an IPython kernel.\n",
      "C:\\Users\\saidh\\miniconda3\\envs\\tensorflow\\lib\\site-packages\\ipykernel_launcher.py:2: UserWarning: Update your `Dropout` call to the Keras 2 API: `Dropout(rate=0.1)`\n",
      "  \n",
      "C:\\Users\\saidh\\miniconda3\\envs\\tensorflow\\lib\\site-packages\\ipykernel_launcher.py:3: UserWarning: Update your `Dense` call to the Keras 2 API: `Dense(activation=\"relu\", units=16, kernel_initializer=\"uniform\")`\n",
      "  This is separate from the ipykernel package so we can avoid doing imports until\n",
      "C:\\Users\\saidh\\miniconda3\\envs\\tensorflow\\lib\\site-packages\\ipykernel_launcher.py:4: UserWarning: Update your `Dropout` call to the Keras 2 API: `Dropout(rate=0.1)`\n",
      "  after removing the cwd from sys.path.\n",
      "C:\\Users\\saidh\\miniconda3\\envs\\tensorflow\\lib\\site-packages\\ipykernel_launcher.py:5: UserWarning: Update your `Dense` call to the Keras 2 API: `Dense(activation=\"sigmoid\", units=1, kernel_initializer=\"uniform\")`\n",
      "  \"\"\"\n"
     ]
    }
   ],
   "source": [
    "classifier.add(Dense(output_dim=16, init='uniform', activation='relu', input_dim=30))\n",
    "classifier.add(Dropout(p=0.1))\n",
    "classifier.add(Dense(output_dim=16, init='uniform', activation='relu'))\n",
    "classifier.add(Dropout(p=0.1))\n",
    "classifier.add(Dense(output_dim=1, init='uniform', activation='sigmoid'))"
   ]
  },
  {
   "cell_type": "markdown",
   "metadata": {},
   "source": [
    "output_dim is 1 as we want only 1 output from the final layer.\n",
    "\n",
    "Sigmoid function is used when dealing with classfication problems with 2 types of results.(Submax function is used for 3 or more classification results)"
   ]
  },
  {
   "cell_type": "code",
   "execution_count": null,
   "metadata": {},
   "outputs": [],
   "source": [
    "classifier.compile(optimizer='adam', loss='binary_crossentropy', metrics=['accuracy'])"
   ]
  },
  {
   "cell_type": "markdown",
   "metadata": {},
   "source": [
    "Optimizer is chosen as adam for gradient descent.\n",
    "\n",
    "Binary_crossentropy is the loss function used.\n",
    "\n",
    "Cross-entropy loss, or log loss, measures the performance of a classification model whose output is a probability value between 0 and 1. Cross-entropy loss increases as the predicted probability diverges from the actual label. So predicting a probability of .012 when the actual observation label is 1 would be bad and result in a high loss value. A perfect model would have a log loss of 0."
   ]
  },
  {
   "cell_type": "code",
   "execution_count": 11,
   "metadata": {},
   "outputs": [
    {
     "name": "stderr",
     "output_type": "stream",
     "text": [
      "C:\\Users\\saidh\\miniconda3\\envs\\tensorflow\\lib\\site-packages\\ipykernel_launcher.py:1: UserWarning: The `nb_epoch` argument in `fit` has been renamed `epochs`.\n",
      "  \"\"\"Entry point for launching an IPython kernel.\n"
     ]
    },
    {
     "name": "stdout",
     "output_type": "stream",
     "text": [
      "Epoch 1/150\n",
      "512/512 [==============================] - 2s 5ms/step - loss: 0.6929 - acc: 0.6250\n",
      "Epoch 2/150\n",
      "512/512 [==============================] - 0s 57us/step - loss: 0.6920 - acc: 0.6289\n",
      "Epoch 3/150\n",
      "512/512 [==============================] - 0s 68us/step - loss: 0.6911 - acc: 0.6289\n",
      "Epoch 4/150\n",
      "512/512 [==============================] - 0s 63us/step - loss: 0.6900 - acc: 0.6289\n",
      "Epoch 5/150\n",
      "512/512 [==============================] - 0s 76us/step - loss: 0.6890 - acc: 0.6289\n",
      "Epoch 6/150\n",
      "512/512 [==============================] - ETA: 0s - loss: 0.6857 - acc: 0.700 - 0s 91us/step - loss: 0.6881 - acc: 0.6289\n",
      "Epoch 7/150\n",
      "512/512 [==============================] - ETA: 0s - loss: 0.6866 - acc: 0.640 - 0s 69us/step - loss: 0.6868 - acc: 0.6289\n",
      "Epoch 8/150\n",
      "512/512 [==============================] - 0s 72us/step - loss: 0.6855 - acc: 0.6289\n",
      "Epoch 9/150\n",
      "512/512 [==============================] - 0s 70us/step - loss: 0.6836 - acc: 0.6289\n",
      "Epoch 10/150\n",
      "512/512 [==============================] - 0s 58us/step - loss: 0.6818 - acc: 0.6289\n",
      "Epoch 11/150\n",
      "512/512 [==============================] - 0s 50us/step - loss: 0.6798 - acc: 0.6289\n",
      "Epoch 12/150\n",
      "512/512 [==============================] - 0s 53us/step - loss: 0.6779 - acc: 0.6289\n",
      "Epoch 13/150\n",
      "512/512 [==============================] - 0s 49us/step - loss: 0.6759 - acc: 0.6289\n",
      "Epoch 14/150\n",
      "512/512 [==============================] - 0s 62us/step - loss: 0.6737 - acc: 0.6289\n",
      "Epoch 15/150\n",
      "512/512 [==============================] - 0s 51us/step - loss: 0.6716 - acc: 0.6289\n",
      "Epoch 16/150\n",
      "512/512 [==============================] - 0s 40us/step - loss: 0.6696 - acc: 0.6289\n",
      "Epoch 17/150\n",
      "512/512 [==============================] - 0s 39us/step - loss: 0.6670 - acc: 0.6289\n",
      "Epoch 18/150\n",
      "512/512 [==============================] - 0s 58us/step - loss: 0.6627 - acc: 0.6289\n",
      "Epoch 19/150\n",
      "512/512 [==============================] - 0s 59us/step - loss: 0.6576 - acc: 0.6289\n",
      "Epoch 20/150\n",
      "512/512 [==============================] - 0s 165us/step - loss: 0.6516 - acc: 0.6289\n",
      "Epoch 21/150\n",
      "512/512 [==============================] - 0s 59us/step - loss: 0.6409 - acc: 0.6289\n",
      "Epoch 22/150\n",
      "512/512 [==============================] - 0s 58us/step - loss: 0.6299 - acc: 0.6289\n",
      "Epoch 23/150\n",
      "512/512 [==============================] - ETA: 0s - loss: 0.6318 - acc: 0.610 - 0s 56us/step - loss: 0.6200 - acc: 0.6289\n",
      "Epoch 24/150\n",
      "512/512 [==============================] - 0s 55us/step - loss: 0.6099 - acc: 0.6289\n",
      "Epoch 25/150\n",
      "512/512 [==============================] - 0s 58us/step - loss: 0.5975 - acc: 0.6289\n",
      "Epoch 26/150\n",
      "512/512 [==============================] - 0s 50us/step - loss: 0.5827 - acc: 0.6289\n",
      "Epoch 27/150\n",
      "512/512 [==============================] - 0s 56us/step - loss: 0.5740 - acc: 0.6289\n",
      "Epoch 28/150\n",
      "512/512 [==============================] - 0s 51us/step - loss: 0.5621 - acc: 0.6289\n",
      "Epoch 29/150\n",
      "512/512 [==============================] - 0s 56us/step - loss: 0.5507 - acc: 0.6289\n",
      "Epoch 30/150\n",
      "512/512 [==============================] - 0s 68us/step - loss: 0.5360 - acc: 0.6289\n",
      "Epoch 31/150\n",
      "512/512 [==============================] - 0s 72us/step - loss: 0.5220 - acc: 0.6289\n",
      "Epoch 32/150\n",
      "512/512 [==============================] - 0s 63us/step - loss: 0.5032 - acc: 0.6289\n",
      "Epoch 33/150\n",
      "512/512 [==============================] - 0s 71us/step - loss: 0.4876 - acc: 0.6289\n",
      "Epoch 34/150\n",
      "512/512 [==============================] - 0s 57us/step - loss: 0.4704 - acc: 0.6289\n",
      "Epoch 35/150\n",
      "512/512 [==============================] - 0s 62us/step - loss: 0.4509 - acc: 0.6289\n",
      "Epoch 36/150\n",
      "512/512 [==============================] - 0s 51us/step - loss: 0.4336 - acc: 0.6289\n",
      "Epoch 37/150\n",
      "512/512 [==============================] - 0s 55us/step - loss: 0.4109 - acc: 0.6289\n",
      "Epoch 38/150\n",
      "512/512 [==============================] - 0s 77us/step - loss: 0.3915 - acc: 0.6289\n",
      "Epoch 39/150\n",
      "512/512 [==============================] - 0s 58us/step - loss: 0.3752 - acc: 0.6289\n",
      "Epoch 40/150\n",
      "512/512 [==============================] - 0s 61us/step - loss: 0.3613 - acc: 0.6289\n",
      "Epoch 41/150\n",
      "512/512 [==============================] - 0s 59us/step - loss: 0.3530 - acc: 0.6289\n",
      "Epoch 42/150\n",
      "512/512 [==============================] - 0s 55us/step - loss: 0.3427 - acc: 0.6289\n",
      "Epoch 43/150\n",
      "512/512 [==============================] - 0s 54us/step - loss: 0.3350 - acc: 0.6289\n",
      "Epoch 44/150\n",
      "512/512 [==============================] - 0s 54us/step - loss: 0.3316 - acc: 0.6309\n",
      "Epoch 45/150\n",
      "512/512 [==============================] - 0s 58us/step - loss: 0.3245 - acc: 0.9648\n",
      "Epoch 46/150\n",
      "512/512 [==============================] - 0s 57us/step - loss: 0.3174 - acc: 0.9746\n",
      "Epoch 47/150\n",
      "512/512 [==============================] - 0s 56us/step - loss: 0.3140 - acc: 0.9766\n",
      "Epoch 48/150\n",
      "512/512 [==============================] - 0s 44us/step - loss: 0.3118 - acc: 0.9785\n",
      "Epoch 49/150\n",
      "512/512 [==============================] - 0s 45us/step - loss: 0.3119 - acc: 0.9785\n",
      "Epoch 50/150\n",
      "512/512 [==============================] - 0s 46us/step - loss: 0.3108 - acc: 0.9766\n",
      "Epoch 51/150\n",
      "512/512 [==============================] - 0s 45us/step - loss: 0.3059 - acc: 0.9805\n",
      "Epoch 52/150\n",
      "512/512 [==============================] - 0s 55us/step - loss: 0.2973 - acc: 0.9824\n",
      "Epoch 53/150\n",
      "512/512 [==============================] - 0s 63us/step - loss: 0.3024 - acc: 0.9824\n",
      "Epoch 54/150\n",
      "512/512 [==============================] - 0s 56us/step - loss: 0.2993 - acc: 0.9824\n",
      "Epoch 55/150\n",
      "512/512 [==============================] - 0s 54us/step - loss: 0.3007 - acc: 0.9844\n",
      "Epoch 56/150\n",
      "512/512 [==============================] - 0s 55us/step - loss: 0.2965 - acc: 0.9863\n",
      "Epoch 57/150\n",
      "512/512 [==============================] - 0s 45us/step - loss: 0.2902 - acc: 0.9844\n",
      "Epoch 58/150\n",
      "512/512 [==============================] - 0s 64us/step - loss: 0.2922 - acc: 0.9824\n",
      "Epoch 59/150\n",
      "512/512 [==============================] - 0s 51us/step - loss: 0.2924 - acc: 0.9844\n",
      "Epoch 60/150\n",
      "512/512 [==============================] - 0s 60us/step - loss: 0.2914 - acc: 0.9863\n",
      "Epoch 61/150\n",
      "512/512 [==============================] - 0s 52us/step - loss: 0.2864 - acc: 0.9824\n",
      "Epoch 62/150\n",
      "512/512 [==============================] - 0s 48us/step - loss: 0.2846 - acc: 0.9844\n",
      "Epoch 63/150\n",
      "512/512 [==============================] - 0s 47us/step - loss: 0.2848 - acc: 0.9883\n",
      "Epoch 64/150\n",
      "512/512 [==============================] - 0s 51us/step - loss: 0.2761 - acc: 0.9883\n",
      "Epoch 65/150\n",
      "512/512 [==============================] - 0s 55us/step - loss: 0.2731 - acc: 0.9863\n",
      "Epoch 66/150\n",
      "512/512 [==============================] - 0s 58us/step - loss: 0.2727 - acc: 0.9844\n",
      "Epoch 67/150\n",
      "512/512 [==============================] - 0s 58us/step - loss: 0.2713 - acc: 0.9824\n",
      "Epoch 68/150\n",
      "512/512 [==============================] - 0s 61us/step - loss: 0.2719 - acc: 0.9883\n",
      "Epoch 69/150\n",
      "512/512 [==============================] - 0s 49us/step - loss: 0.2743 - acc: 0.9844\n",
      "Epoch 70/150\n",
      "512/512 [==============================] - 0s 54us/step - loss: 0.2773 - acc: 0.9863\n",
      "Epoch 71/150\n",
      "512/512 [==============================] - 0s 56us/step - loss: 0.2655 - acc: 0.9863\n",
      "Epoch 72/150\n",
      "512/512 [==============================] - 0s 48us/step - loss: 0.2675 - acc: 0.9863\n",
      "Epoch 73/150\n",
      "512/512 [==============================] - 0s 52us/step - loss: 0.2672 - acc: 0.9883\n",
      "Epoch 74/150\n",
      "512/512 [==============================] - 0s 48us/step - loss: 0.2646 - acc: 0.9863\n",
      "Epoch 75/150\n",
      "512/512 [==============================] - 0s 46us/step - loss: 0.2644 - acc: 0.9844\n",
      "Epoch 76/150\n",
      "512/512 [==============================] - 0s 49us/step - loss: 0.2662 - acc: 0.9844\n",
      "Epoch 77/150\n",
      "512/512 [==============================] - 0s 53us/step - loss: 0.2620 - acc: 0.9863\n",
      "Epoch 78/150\n",
      "512/512 [==============================] - 0s 48us/step - loss: 0.2572 - acc: 0.9883\n",
      "Epoch 79/150\n",
      "512/512 [==============================] - 0s 46us/step - loss: 0.2593 - acc: 0.9883\n",
      "Epoch 80/150\n",
      "512/512 [==============================] - 0s 48us/step - loss: 0.2539 - acc: 0.9883\n",
      "Epoch 81/150\n",
      "512/512 [==============================] - 0s 49us/step - loss: 0.2584 - acc: 0.9883\n",
      "Epoch 82/150\n",
      "512/512 [==============================] - 0s 51us/step - loss: 0.2561 - acc: 0.9883\n",
      "Epoch 83/150\n",
      "512/512 [==============================] - 0s 39us/step - loss: 0.2570 - acc: 0.9883\n",
      "Epoch 84/150\n",
      "512/512 [==============================] - ETA: 0s - loss: 0.2204 - acc: 1.000 - 0s 42us/step - loss: 0.2524 - acc: 0.9883\n",
      "Epoch 85/150\n",
      "512/512 [==============================] - 0s 44us/step - loss: 0.2471 - acc: 0.9863\n",
      "Epoch 86/150\n",
      "512/512 [==============================] - 0s 53us/step - loss: 0.2530 - acc: 0.9883\n",
      "Epoch 87/150\n",
      "512/512 [==============================] - 0s 59us/step - loss: 0.2510 - acc: 0.9863\n",
      "Epoch 88/150\n",
      "512/512 [==============================] - 0s 48us/step - loss: 0.2504 - acc: 0.9883\n",
      "Epoch 89/150\n",
      "512/512 [==============================] - 0s 51us/step - loss: 0.2491 - acc: 0.9863\n",
      "Epoch 90/150\n",
      "512/512 [==============================] - 0s 48us/step - loss: 0.2546 - acc: 0.9863\n",
      "Epoch 91/150\n",
      "512/512 [==============================] - 0s 56us/step - loss: 0.2478 - acc: 0.9883\n",
      "Epoch 92/150\n",
      "512/512 [==============================] - 0s 46us/step - loss: 0.2457 - acc: 0.9863\n",
      "Epoch 93/150\n",
      "512/512 [==============================] - 0s 58us/step - loss: 0.2395 - acc: 0.9863\n",
      "Epoch 94/150\n",
      "512/512 [==============================] - ETA: 0s - loss: 0.2793 - acc: 0.980 - 0s 53us/step - loss: 0.2466 - acc: 0.9883\n",
      "Epoch 95/150\n",
      "512/512 [==============================] - 0s 53us/step - loss: 0.2368 - acc: 0.9883\n",
      "Epoch 96/150\n",
      "512/512 [==============================] - 0s 43us/step - loss: 0.2456 - acc: 0.9863\n",
      "Epoch 97/150\n",
      "512/512 [==============================] - 0s 57us/step - loss: 0.2397 - acc: 0.9883\n",
      "Epoch 98/150\n",
      "512/512 [==============================] - 0s 56us/step - loss: 0.2381 - acc: 0.9863\n",
      "Epoch 99/150\n",
      "512/512 [==============================] - 0s 56us/step - loss: 0.2486 - acc: 0.9863\n",
      "Epoch 100/150\n",
      "512/512 [==============================] - 0s 55us/step - loss: 0.2405 - acc: 0.9883\n",
      "Epoch 101/150\n",
      "512/512 [==============================] - 0s 49us/step - loss: 0.2331 - acc: 0.9883\n",
      "Epoch 102/150\n",
      "512/512 [==============================] - 0s 52us/step - loss: 0.2356 - acc: 0.9883\n",
      "Epoch 103/150\n",
      "512/512 [==============================] - 0s 50us/step - loss: 0.2366 - acc: 0.9883\n",
      "Epoch 104/150\n",
      "512/512 [==============================] - 0s 61us/step - loss: 0.2431 - acc: 0.9883\n",
      "Epoch 105/150\n",
      "512/512 [==============================] - 0s 49us/step - loss: 0.2319 - acc: 0.9883\n",
      "Epoch 106/150\n",
      "512/512 [==============================] - 0s 53us/step - loss: 0.2345 - acc: 0.9883\n",
      "Epoch 107/150\n",
      "512/512 [==============================] - 0s 62us/step - loss: 0.2336 - acc: 0.9863\n",
      "Epoch 108/150\n",
      "512/512 [==============================] - 0s 54us/step - loss: 0.2322 - acc: 0.9883\n",
      "Epoch 109/150\n",
      "512/512 [==============================] - 0s 53us/step - loss: 0.2284 - acc: 0.9883\n",
      "Epoch 110/150\n",
      "512/512 [==============================] - 0s 60us/step - loss: 0.2293 - acc: 0.9863\n",
      "Epoch 111/150\n",
      "512/512 [==============================] - ETA: 0s - loss: 0.2118 - acc: 0.980 - 0s 49us/step - loss: 0.2262 - acc: 0.9883\n",
      "Epoch 112/150\n",
      "512/512 [==============================] - 0s 44us/step - loss: 0.2267 - acc: 0.9883\n",
      "Epoch 113/150\n",
      "512/512 [==============================] - 0s 51us/step - loss: 0.2278 - acc: 0.9883\n",
      "Epoch 114/150\n",
      "512/512 [==============================] - 0s 44us/step - loss: 0.2229 - acc: 0.9883\n",
      "Epoch 115/150\n",
      "512/512 [==============================] - 0s 55us/step - loss: 0.2269 - acc: 0.9883\n",
      "Epoch 116/150\n",
      "512/512 [==============================] - 0s 53us/step - loss: 0.2266 - acc: 0.9883\n",
      "Epoch 117/150\n",
      "512/512 [==============================] - 0s 46us/step - loss: 0.2202 - acc: 0.9883\n",
      "Epoch 118/150\n",
      "512/512 [==============================] - 0s 46us/step - loss: 0.2249 - acc: 0.9883\n",
      "Epoch 119/150\n",
      "512/512 [==============================] - 0s 50us/step - loss: 0.2220 - acc: 0.9883\n",
      "Epoch 120/150\n",
      "512/512 [==============================] - 0s 49us/step - loss: 0.2233 - acc: 0.9883\n",
      "Epoch 121/150\n",
      "512/512 [==============================] - 0s 50us/step - loss: 0.2204 - acc: 0.9883\n",
      "Epoch 122/150\n",
      "512/512 [==============================] - 0s 45us/step - loss: 0.2175 - acc: 0.9883\n",
      "Epoch 123/150\n",
      "512/512 [==============================] - 0s 58us/step - loss: 0.2189 - acc: 0.9883\n",
      "Epoch 124/150\n",
      "512/512 [==============================] - 0s 44us/step - loss: 0.2135 - acc: 0.9883\n",
      "Epoch 125/150\n",
      "512/512 [==============================] - 0s 55us/step - loss: 0.2166 - acc: 0.9883\n",
      "Epoch 126/150\n",
      "512/512 [==============================] - 0s 52us/step - loss: 0.2154 - acc: 0.9883\n",
      "Epoch 127/150\n",
      "512/512 [==============================] - 0s 43us/step - loss: 0.2142 - acc: 0.9863\n",
      "Epoch 128/150\n",
      "512/512 [==============================] - 0s 61us/step - loss: 0.2204 - acc: 0.9883\n",
      "Epoch 129/150\n",
      "512/512 [==============================] - 0s 52us/step - loss: 0.2145 - acc: 0.9883\n",
      "Epoch 130/150\n",
      "512/512 [==============================] - 0s 52us/step - loss: 0.2153 - acc: 0.9883\n",
      "Epoch 131/150\n",
      "512/512 [==============================] - 0s 48us/step - loss: 0.2146 - acc: 0.9883\n",
      "Epoch 132/150\n",
      "512/512 [==============================] - 0s 52us/step - loss: 0.2194 - acc: 0.9883\n",
      "Epoch 133/150\n",
      "512/512 [==============================] - ETA: 0s - loss: 0.2346 - acc: 0.980 - 0s 55us/step - loss: 0.2101 - acc: 0.9883\n",
      "Epoch 134/150\n",
      "512/512 [==============================] - 0s 45us/step - loss: 0.2063 - acc: 0.9883\n",
      "Epoch 135/150\n",
      "512/512 [==============================] - 0s 49us/step - loss: 0.2140 - acc: 0.9883\n",
      "Epoch 136/150\n",
      "512/512 [==============================] - 0s 50us/step - loss: 0.2078 - acc: 0.9883\n",
      "Epoch 137/150\n",
      "512/512 [==============================] - 0s 45us/step - loss: 0.2129 - acc: 0.9883\n",
      "Epoch 138/150\n",
      "512/512 [==============================] - 0s 50us/step - loss: 0.2119 - acc: 0.9883\n",
      "Epoch 139/150\n",
      "512/512 [==============================] - 0s 45us/step - loss: 0.2134 - acc: 0.9883\n",
      "Epoch 140/150\n",
      "512/512 [==============================] - 0s 50us/step - loss: 0.2058 - acc: 0.9883\n",
      "Epoch 141/150\n",
      "512/512 [==============================] - 0s 49us/step - loss: 0.2087 - acc: 0.9883\n",
      "Epoch 142/150\n",
      "512/512 [==============================] - 0s 45us/step - loss: 0.2120 - acc: 0.9883\n",
      "Epoch 143/150\n",
      "512/512 [==============================] - 0s 53us/step - loss: 0.2065 - acc: 0.9883\n",
      "Epoch 144/150\n",
      "512/512 [==============================] - 0s 44us/step - loss: 0.2050 - acc: 0.9883\n",
      "Epoch 145/150\n",
      "512/512 [==============================] - 0s 43us/step - loss: 0.2023 - acc: 0.9883\n",
      "Epoch 146/150\n",
      "512/512 [==============================] - 0s 49us/step - loss: 0.2064 - acc: 0.9883\n",
      "Epoch 147/150\n",
      "512/512 [==============================] - 0s 40us/step - loss: 0.2089 - acc: 0.9883\n",
      "Epoch 148/150\n",
      "512/512 [==============================] - 0s 49us/step - loss: 0.2009 - acc: 0.9883\n",
      "Epoch 149/150\n",
      "512/512 [==============================] - 0s 56us/step - loss: 0.1946 - acc: 0.9883\n",
      "Epoch 150/150\n",
      "512/512 [==============================] - 0s 49us/step - loss: 0.2017 - acc: 0.9883\n"
     ]
    },
    {
     "data": {
      "text/plain": [
       "<keras.callbacks.History at 0x2f5c6aa0278>"
      ]
     },
     "execution_count": 11,
     "metadata": {},
     "output_type": "execute_result"
    }
   ],
   "source": [
    "classifier.fit(X_train, y_train, batch_size=100, nb_epoch=150)"
   ]
  },
  {
   "cell_type": "markdown",
   "metadata": {},
   "source": [
    "Batch size defines number of samples that going to be propagated through the network.\n",
    "\n",
    "An Epoch is a complete pass through all the training data."
   ]
  },
  {
   "cell_type": "code",
   "execution_count": 13,
   "metadata": {},
   "outputs": [],
   "source": [
    "y_pred = classifier.predict(X_test)\n",
    "y_pred = (y_pred > 0.5)"
   ]
  },
  {
   "cell_type": "code",
   "execution_count": 14,
   "metadata": {},
   "outputs": [],
   "source": [
    "from sklearn.metrics import confusion_matrix\n",
    "cm = confusion_matrix(y_test, y_pred)"
   ]
  },
  {
   "cell_type": "code",
   "execution_count": 18,
   "metadata": {},
   "outputs": [
    {
     "data": {
      "text/plain": [
       "(57,)"
      ]
     },
     "execution_count": 18,
     "metadata": {},
     "output_type": "execute_result"
    }
   ],
   "source": [
    "y_test.shape"
   ]
  },
  {
   "cell_type": "code",
   "execution_count": 15,
   "metadata": {},
   "outputs": [
    {
     "name": "stdout",
     "output_type": "stream",
     "text": [
      "Our accuracy is 100.0%\n"
     ]
    }
   ],
   "source": [
    "print(\"Our accuracy is {}%\".format(((cm[0][0] + cm[1][1])/57)*100))"
   ]
  },
  {
   "cell_type": "code",
   "execution_count": 16,
   "metadata": {},
   "outputs": [
    {
     "data": {
      "image/png": "[encoded data removed]",
      "text/plain": [
       "<Figure size 432x288 with 2 Axes>"
      ]
     },
     "metadata": {
      "needs_background": "light"
     },
     "output_type": "display_data"
    }
   ],
   "source": [
    "sns.heatmap(cm,annot=True)\n",
    "plt.savefig('h.png')"
   ]
  },
  {
   "cell_type": "code",
   "execution_count": null,
   "metadata": {},
   "outputs": [],
   "source": []
  }
 ],
 "metadata": {
  "kernelspec": {
   "display_name": "Python 3",
   "language": "python",
   "name": "python3"
  },
  "language_info": {
   "codemirror_mode": {
    "name": "ipython",
    "version": 3
   },
   "file_extension": ".py",
   "mimetype": "text/x-python",
   "name": "python",
   "nbconvert_exporter": "python",
   "pygments_lexer": "ipython3",
   "version": "3.6.12"
  }
 },
 "nbformat": 4,
 "nbformat_minor": 4
}
