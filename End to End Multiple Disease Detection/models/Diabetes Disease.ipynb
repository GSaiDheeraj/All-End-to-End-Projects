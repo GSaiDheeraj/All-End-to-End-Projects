{
 "cells": [
  {
   "cell_type": "markdown",
   "metadata": {},
   "source": [
    "Attributes: (all numeric-valued)                                                                                                         \n",
    "2)Number of times pregnant                                                                                                              \n",
    "3)Plasma glucose concentration a 2 hours in an oral glucose tolerance test                                                             \n",
    "4)Diastolic blood pressure (mm Hg)                                                                                                     \n",
    "5)Triceps skin fold thickness (mm)                                                                                                \n",
    "6)2-Hour serum insulin (mu U/ml)                                                                                                   \n",
    "7)Body mass index (weight in kg/(height in m)^2)                                                                                                                               \n",
    "8)Diabetes pedigree function                                                                                                                  \n",
    "9)Age (years)                                                                                                                                                                           \n",
    "10)Class variable (0 or 1)"
   ]
  },
  {
   "cell_type": "code",
   "execution_count": 3,
   "metadata": {},
   "outputs": [],
   "source": [
    "import numpy as np\n",
    "import pandas as pd\n",
    "import matplotlib.pyplot as plt\n",
    "from sklearn.model_selection import train_test_split\n",
    "from sklearn.preprocessing import StandardScaler\n",
    "from sklearn.metrics import confusion_matrix, precision_recall_curve, roc_auc_score, roc_curve, accuracy_score\n",
    "from sklearn.ensemble import RandomForestClassifier\n",
    "import seaborn as sns\n",
    "%matplotlib inline\n",
    "## Import Keras objects for Deep Learning\n",
    "\n",
    "from keras.models  import Sequential, K\n",
    "from keras.layers import Input, Dense, Flatten, Dropout, BatchNormalization\n",
    "from keras.optimizers import Adam, SGD, RMSprop"
   ]
  },
  {
   "cell_type": "code",
   "execution_count": 4,
   "metadata": {},
   "outputs": [],
   "source": [
    "diabetes_df = pd.read_csv('C:/Users/saidh/Desktop/End to End Multiple Disease Detection/data/diabetes.csv')\n"
   ]
  },
  {
   "cell_type": "code",
   "execution_count": 5,
   "metadata": {},
   "outputs": [
    {
     "name": "stdout",
     "output_type": "stream",
     "text": [
      "(768, 9)\n"
     ]
    },
    {
     "data": {
      "text/html": [
       "<div>\n",
       "<style scoped>\n",
       "    .dataframe tbody tr th:only-of-type {\n",
       "        vertical-align: middle;\n",
       "    }\n",
       "\n",
       "    .dataframe tbody tr th {\n",
       "        vertical-align: top;\n",
       "    }\n",
       "\n",
       "    .dataframe thead th {\n",
       "        text-align: right;\n",
       "    }\n",
       "</style>\n",
       "<table border=\"1\" class=\"dataframe\">\n",
       "  <thead>\n",
       "    <tr style=\"text-align: right;\">\n",
       "      <th></th>\n",
       "      <th>Pregnancies</th>\n",
       "      <th>Glucose</th>\n",
       "      <th>BloodPressure</th>\n",
       "      <th>SkinThickness</th>\n",
       "      <th>Insulin</th>\n",
       "      <th>BMI</th>\n",
       "      <th>DiabetesPedigreeFunction</th>\n",
       "      <th>Age</th>\n",
       "      <th>Outcome</th>\n",
       "    </tr>\n",
       "  </thead>\n",
       "  <tbody>\n",
       "    <tr>\n",
       "      <th>709</th>\n",
       "      <td>2</td>\n",
       "      <td>93</td>\n",
       "      <td>64</td>\n",
       "      <td>32</td>\n",
       "      <td>160</td>\n",
       "      <td>38.0</td>\n",
       "      <td>0.674</td>\n",
       "      <td>23</td>\n",
       "      <td>1</td>\n",
       "    </tr>\n",
       "    <tr>\n",
       "      <th>131</th>\n",
       "      <td>9</td>\n",
       "      <td>122</td>\n",
       "      <td>56</td>\n",
       "      <td>0</td>\n",
       "      <td>0</td>\n",
       "      <td>33.3</td>\n",
       "      <td>1.114</td>\n",
       "      <td>33</td>\n",
       "      <td>1</td>\n",
       "    </tr>\n",
       "    <tr>\n",
       "      <th>521</th>\n",
       "      <td>3</td>\n",
       "      <td>124</td>\n",
       "      <td>80</td>\n",
       "      <td>33</td>\n",
       "      <td>130</td>\n",
       "      <td>33.2</td>\n",
       "      <td>0.305</td>\n",
       "      <td>26</td>\n",
       "      <td>0</td>\n",
       "    </tr>\n",
       "    <tr>\n",
       "      <th>722</th>\n",
       "      <td>1</td>\n",
       "      <td>149</td>\n",
       "      <td>68</td>\n",
       "      <td>29</td>\n",
       "      <td>127</td>\n",
       "      <td>29.3</td>\n",
       "      <td>0.349</td>\n",
       "      <td>42</td>\n",
       "      <td>1</td>\n",
       "    </tr>\n",
       "    <tr>\n",
       "      <th>614</th>\n",
       "      <td>11</td>\n",
       "      <td>138</td>\n",
       "      <td>74</td>\n",
       "      <td>26</td>\n",
       "      <td>144</td>\n",
       "      <td>36.1</td>\n",
       "      <td>0.557</td>\n",
       "      <td>50</td>\n",
       "      <td>1</td>\n",
       "    </tr>\n",
       "  </tbody>\n",
       "</table>\n",
       "</div>"
      ],
      "text/plain": [
       "     Pregnancies  Glucose  BloodPressure  SkinThickness  Insulin   BMI  \\\n",
       "709            2       93             64             32      160  38.0   \n",
       "131            9      122             56              0        0  33.3   \n",
       "521            3      124             80             33      130  33.2   \n",
       "722            1      149             68             29      127  29.3   \n",
       "614           11      138             74             26      144  36.1   \n",
       "\n",
       "     DiabetesPedigreeFunction  Age  Outcome  \n",
       "709                     0.674   23        1  \n",
       "131                     1.114   33        1  \n",
       "521                     0.305   26        0  \n",
       "722                     0.349   42        1  \n",
       "614                     0.557   50        1  "
      ]
     },
     "execution_count": 5,
     "metadata": {},
     "output_type": "execute_result"
    }
   ],
   "source": [
    "# Take a peek at the data -- if there are lots of \"NaN\" we may have internet connectivity issues\n",
    "print(diabetes_df.shape)\n",
    "diabetes_df.sample(5)"
   ]
  },
  {
   "cell_type": "code",
   "execution_count": 6,
   "metadata": {},
   "outputs": [],
   "source": [
    "X = diabetes_df.iloc[:, :-1].values\n",
    "y = diabetes_df[\"Outcome\"].values"
   ]
  },
  {
   "cell_type": "code",
   "execution_count": 7,
   "metadata": {},
   "outputs": [],
   "source": [
    "# Split the data to Train, and Test (75%, 25%)\n",
    "\n",
    "X_train, X_test, y_train, y_test = train_test_split(X, y, test_size=0.25, random_state=11111)"
   ]
  },
  {
   "cell_type": "code",
   "execution_count": 8,
   "metadata": {},
   "outputs": [
    {
     "data": {
      "text/plain": [
       "(0.3489583333333333, 0.6510416666666666)"
      ]
     },
     "execution_count": 8,
     "metadata": {},
     "output_type": "execute_result"
    }
   ],
   "source": [
    "np.mean(y), np.mean(1-y)\n"
   ]
  },
  {
   "cell_type": "markdown",
   "metadata": {},
   "source": [
    "Above, we see that about 35% of the patients in this dataset have diabetes, while 65% do not. This means we can get an accuracy of 65% without any model - just declare that no one has diabetes. We will calculate the ROC-AUC score to evaluate performance of our model, and also look at the accuracy as well to see if we improved upon the 65% accuracy."
   ]
  },
  {
   "cell_type": "markdown",
   "metadata": {},
   "source": [
    "Baseline performance using Random Forest\n",
    "To begin, and get a baseline for classifier performance:\n",
    "\n",
    "We train a Random Forest model with 200 trees on the training data.\n",
    "We calculate the accuracy and roc_auc_score of the predictions."
   ]
  },
  {
   "cell_type": "code",
   "execution_count": 9,
   "metadata": {},
   "outputs": [
    {
     "data": {
      "text/plain": [
       "RandomForestClassifier(n_estimators=200)"
      ]
     },
     "execution_count": 9,
     "metadata": {},
     "output_type": "execute_result"
    }
   ],
   "source": [
    "rf_model = RandomForestClassifier(n_estimators=200)\n",
    "rf_model.fit(X_train, y_train)"
   ]
  },
  {
   "cell_type": "code",
   "execution_count": 10,
   "metadata": {},
   "outputs": [
    {
     "name": "stdout",
     "output_type": "stream",
     "text": [
      "accuracy is 0.766\n",
      "roc-auc is 0.828\n"
     ]
    }
   ],
   "source": [
    "# Make predictions on the test set - both \"hard\" predictions, and the scores (percent of trees voting yes)\n",
    "y_pred_class_rf = rf_model.predict(X_test)\n",
    "y_pred_prob_rf = rf_model.predict_proba(X_test)\n",
    "\n",
    "\n",
    "print('accuracy is {:.3f}'.format(accuracy_score(y_test,y_pred_class_rf)))\n",
    "print('roc-auc is {:.3f}'.format(roc_auc_score(y_test,y_pred_prob_rf[:,1])))"
   ]
  },
  {
   "cell_type": "code",
   "execution_count": 12,
   "metadata": {},
   "outputs": [
    {
     "data": {
      "image/png": "[encoded data removed]",
      "text/plain": [
       "<Figure size 576x576 with 1 Axes>"
      ]
     },
     "metadata": {
      "needs_background": "light"
     },
     "output_type": "display_data"
    }
   ],
   "source": [
    "def plot_roc(y_test, y_pred, model_name):\n",
    "    fpr, tpr, thr = roc_curve(y_test, y_pred)\n",
    "    fig, ax = plt.subplots(figsize=(8, 8))\n",
    "    ax.plot(fpr, tpr, 'k-')\n",
    "    ax.plot([0, 1], [0, 1], 'k--', linewidth=.5)  # roc curve for random model\n",
    "    ax.grid(True)\n",
    "    ax.set(title='ROC Curve for {} on PIMA diabetes problem'.format(model_name),\n",
    "           xlim=[-0.01, 1.01], ylim=[-0.01, 1.01])\n",
    "\n",
    "\n",
    "plot_roc(y_test, y_pred_prob_rf[:, 1], 'RF')"
   ]
  },
  {
   "cell_type": "markdown",
   "metadata": {},
   "source": [
    "Building a Single Hidden Layer Neural Network\n",
    "We will use the Sequential model to quickly build a neural network. Our first network will be a single layer network. We have 8 variables, so we set the input shape to 8. Let's start by having a single hidden layer with 12 nodes."
   ]
  },
  {
   "cell_type": "code",
   "execution_count": 14,
   "metadata": {},
   "outputs": [],
   "source": [
    "normalizer = StandardScaler()\n",
    "X_train_norm = normalizer.fit_transform(X_train)\n",
    "X_test_norm = normalizer.transform(X_test)"
   ]
  },
  {
   "cell_type": "code",
   "execution_count": 17,
   "metadata": {},
   "outputs": [
    {
     "name": "stderr",
     "output_type": "stream",
     "text": [
      "C:\\Users\\saidh\\miniconda3\\envs\\tensorflow\\lib\\site-packages\\ipykernel_launcher.py:2: UserWarning: Update your `Dense` call to the Keras 2 API: `Dense(activation=\"relu\", input_dim=30, units=16, kernel_initializer=\"uniform\")`\n",
      "  \n",
      "C:\\Users\\saidh\\miniconda3\\envs\\tensorflow\\lib\\site-packages\\ipykernel_launcher.py:3: UserWarning: Update your `Dropout` call to the Keras 2 API: `Dropout(rate=0.1)`\n",
      "  This is separate from the ipykernel package so we can avoid doing imports until\n",
      "C:\\Users\\saidh\\miniconda3\\envs\\tensorflow\\lib\\site-packages\\ipykernel_launcher.py:4: UserWarning: Update your `Dense` call to the Keras 2 API: `Dense(activation=\"relu\", units=16, kernel_initializer=\"uniform\")`\n",
      "  after removing the cwd from sys.path.\n",
      "C:\\Users\\saidh\\miniconda3\\envs\\tensorflow\\lib\\site-packages\\ipykernel_launcher.py:5: UserWarning: Update your `Dropout` call to the Keras 2 API: `Dropout(rate=0.1)`\n",
      "  \"\"\"\n",
      "C:\\Users\\saidh\\miniconda3\\envs\\tensorflow\\lib\\site-packages\\ipykernel_launcher.py:6: UserWarning: Update your `Dense` call to the Keras 2 API: `Dense(activation=\"sigmoid\", units=1, kernel_initializer=\"uniform\")`\n",
      "  \n"
     ]
    }
   ],
   "source": [
    "classifier = Sequential()\n",
    "classifier.add(Dense(output_dim=16, init='uniform', activation='relu', input_dim=30))\n",
    "classifier.add(Dropout(p=0.1))\n",
    "classifier.add(Dense(output_dim=16, init='uniform', activation='relu'))\n",
    "classifier.add(Dropout(p=0.1))\n",
    "classifier.add(Dense(output_dim=1, init='uniform', activation='sigmoid'))"
   ]
  },
  {
   "cell_type": "code",
   "execution_count": 18,
   "metadata": {},
   "outputs": [
    {
     "name": "stdout",
     "output_type": "stream",
     "text": [
      "_________________________________________________________________\n",
      "Layer (type)                 Output Shape              Param #   \n",
      "=================================================================\n",
      "dense_3 (Dense)              (None, 16)                496       \n",
      "_________________________________________________________________\n",
      "dropout_1 (Dropout)          (None, 16)                0         \n",
      "_________________________________________________________________\n",
      "dense_4 (Dense)              (None, 16)                272       \n",
      "_________________________________________________________________\n",
      "dropout_2 (Dropout)          (None, 16)                0         \n",
      "_________________________________________________________________\n",
      "dense_5 (Dense)              (None, 1)                 17        \n",
      "=================================================================\n",
      "Total params: 785\n",
      "Trainable params: 785\n",
      "Non-trainable params: 0\n",
      "_________________________________________________________________\n"
     ]
    }
   ],
   "source": [
    "classifier.summary()"
   ]
  },
  {
   "cell_type": "code",
   "execution_count": 21,
   "metadata": {},
   "outputs": [
    {
     "name": "stdout",
     "output_type": "stream",
     "text": [
      "Train on 576 samples, validate on 192 samples\n",
      "Epoch 1/200\n",
      "576/576 [==============================] - 0s 671us/step - loss: 0.4676 - acc: 0.7760 - val_loss: 0.4963 - val_acc: 0.7500\n",
      "Epoch 2/200\n",
      "576/576 [==============================] - 0s 72us/step - loss: 0.4675 - acc: 0.7778 - val_loss: 0.4962 - val_acc: 0.7500\n",
      "Epoch 3/200\n",
      "576/576 [==============================] - 0s 70us/step - loss: 0.4673 - acc: 0.7760 - val_loss: 0.4961 - val_acc: 0.7500\n",
      "Epoch 4/200\n",
      "576/576 [==============================] - 0s 66us/step - loss: 0.4672 - acc: 0.7760 - val_loss: 0.4960 - val_acc: 0.7500\n",
      "Epoch 5/200\n",
      "576/576 [==============================] - 0s 78us/step - loss: 0.4669 - acc: 0.7760 - val_loss: 0.4959 - val_acc: 0.7500\n",
      "Epoch 6/200\n",
      "576/576 [==============================] - 0s 76us/step - loss: 0.4668 - acc: 0.7778 - val_loss: 0.4958 - val_acc: 0.7500\n",
      "Epoch 7/200\n",
      "576/576 [==============================] - 0s 66us/step - loss: 0.4666 - acc: 0.7760 - val_loss: 0.4957 - val_acc: 0.7500\n",
      "Epoch 8/200\n",
      "576/576 [==============================] - 0s 62us/step - loss: 0.4665 - acc: 0.7778 - val_loss: 0.4957 - val_acc: 0.7500\n",
      "Epoch 9/200\n",
      "576/576 [==============================] - 0s 64us/step - loss: 0.4663 - acc: 0.7760 - val_loss: 0.4956 - val_acc: 0.7500\n",
      "Epoch 10/200\n",
      "576/576 [==============================] - 0s 74us/step - loss: 0.4662 - acc: 0.7760 - val_loss: 0.4955 - val_acc: 0.7500\n",
      "Epoch 11/200\n",
      "576/576 [==============================] - 0s 64us/step - loss: 0.4660 - acc: 0.7778 - val_loss: 0.4954 - val_acc: 0.7500\n",
      "Epoch 12/200\n",
      "576/576 [==============================] - 0s 62us/step - loss: 0.4658 - acc: 0.7778 - val_loss: 0.4953 - val_acc: 0.7500\n",
      "Epoch 13/200\n",
      "576/576 [==============================] - 0s 69us/step - loss: 0.4657 - acc: 0.7760 - val_loss: 0.4952 - val_acc: 0.7500\n",
      "Epoch 14/200\n",
      "576/576 [==============================] - 0s 63us/step - loss: 0.4655 - acc: 0.7778 - val_loss: 0.4951 - val_acc: 0.7552\n",
      "Epoch 15/200\n",
      "576/576 [==============================] - 0s 59us/step - loss: 0.4654 - acc: 0.7778 - val_loss: 0.4950 - val_acc: 0.7552\n",
      "Epoch 16/200\n",
      "576/576 [==============================] - 0s 67us/step - loss: 0.4652 - acc: 0.7795 - val_loss: 0.4949 - val_acc: 0.7552\n",
      "Epoch 17/200\n",
      "576/576 [==============================] - 0s 61us/step - loss: 0.4651 - acc: 0.7795 - val_loss: 0.4949 - val_acc: 0.7552\n",
      "Epoch 18/200\n",
      "576/576 [==============================] - 0s 57us/step - loss: 0.4649 - acc: 0.7795 - val_loss: 0.4948 - val_acc: 0.7552\n",
      "Epoch 19/200\n",
      "576/576 [==============================] - 0s 67us/step - loss: 0.4648 - acc: 0.7795 - val_loss: 0.4947 - val_acc: 0.7552\n",
      "Epoch 20/200\n",
      "576/576 [==============================] - 0s 76us/step - loss: 0.4646 - acc: 0.7795 - val_loss: 0.4946 - val_acc: 0.7552\n",
      "Epoch 21/200\n",
      "576/576 [==============================] - 0s 63us/step - loss: 0.4645 - acc: 0.7795 - val_loss: 0.4945 - val_acc: 0.7552\n",
      "Epoch 22/200\n",
      "576/576 [==============================] - 0s 80us/step - loss: 0.4643 - acc: 0.7795 - val_loss: 0.4945 - val_acc: 0.7552\n",
      "Epoch 23/200\n",
      "576/576 [==============================] - 0s 58us/step - loss: 0.4642 - acc: 0.7795 - val_loss: 0.4944 - val_acc: 0.7500\n",
      "Epoch 24/200\n",
      "576/576 [==============================] - 0s 75us/step - loss: 0.4641 - acc: 0.7795 - val_loss: 0.4943 - val_acc: 0.7500\n",
      "Epoch 25/200\n",
      "576/576 [==============================] - 0s 62us/step - loss: 0.4640 - acc: 0.7795 - val_loss: 0.4942 - val_acc: 0.7500\n",
      "Epoch 26/200\n",
      "576/576 [==============================] - 0s 68us/step - loss: 0.4638 - acc: 0.7795 - val_loss: 0.4942 - val_acc: 0.7500\n",
      "Epoch 27/200\n",
      "576/576 [==============================] - 0s 62us/step - loss: 0.4637 - acc: 0.7795 - val_loss: 0.4941 - val_acc: 0.7500\n",
      "Epoch 28/200\n",
      "576/576 [==============================] - 0s 47us/step - loss: 0.4635 - acc: 0.7795 - val_loss: 0.4940 - val_acc: 0.7500\n",
      "Epoch 29/200\n",
      "576/576 [==============================] - 0s 68us/step - loss: 0.4634 - acc: 0.7795 - val_loss: 0.4939 - val_acc: 0.7500\n",
      "Epoch 30/200\n",
      "576/576 [==============================] - 0s 63us/step - loss: 0.4632 - acc: 0.7795 - val_loss: 0.4939 - val_acc: 0.7500\n",
      "Epoch 31/200\n",
      "576/576 [==============================] - 0s 79us/step - loss: 0.4631 - acc: 0.7795 - val_loss: 0.4938 - val_acc: 0.7500\n",
      "Epoch 32/200\n",
      "576/576 [==============================] - 0s 69us/step - loss: 0.4630 - acc: 0.7812 - val_loss: 0.4937 - val_acc: 0.7500\n",
      "Epoch 33/200\n",
      "576/576 [==============================] - 0s 46us/step - loss: 0.4629 - acc: 0.7795 - val_loss: 0.4937 - val_acc: 0.7500\n",
      "Epoch 34/200\n",
      "576/576 [==============================] - 0s 65us/step - loss: 0.4627 - acc: 0.7795 - val_loss: 0.4936 - val_acc: 0.7500\n",
      "Epoch 35/200\n",
      "576/576 [==============================] - 0s 61us/step - loss: 0.4626 - acc: 0.7830 - val_loss: 0.4935 - val_acc: 0.7500\n",
      "Epoch 36/200\n",
      "576/576 [==============================] - 0s 71us/step - loss: 0.4625 - acc: 0.7795 - val_loss: 0.4935 - val_acc: 0.7500\n",
      "Epoch 37/200\n",
      "576/576 [==============================] - 0s 70us/step - loss: 0.4623 - acc: 0.7830 - val_loss: 0.4934 - val_acc: 0.7500\n",
      "Epoch 38/200\n",
      "576/576 [==============================] - 0s 65us/step - loss: 0.4622 - acc: 0.7812 - val_loss: 0.4934 - val_acc: 0.7500\n",
      "Epoch 39/200\n",
      "576/576 [==============================] - 0s 50us/step - loss: 0.4621 - acc: 0.7812 - val_loss: 0.4933 - val_acc: 0.7500\n",
      "Epoch 40/200\n",
      "576/576 [==============================] - 0s 70us/step - loss: 0.4619 - acc: 0.7847 - val_loss: 0.4932 - val_acc: 0.7500\n",
      "Epoch 41/200\n",
      "576/576 [==============================] - 0s 58us/step - loss: 0.4618 - acc: 0.7830 - val_loss: 0.4932 - val_acc: 0.7500\n",
      "Epoch 42/200\n",
      "576/576 [==============================] - 0s 66us/step - loss: 0.4617 - acc: 0.7847 - val_loss: 0.4931 - val_acc: 0.7500\n",
      "Epoch 43/200\n",
      "576/576 [==============================] - 0s 77us/step - loss: 0.4616 - acc: 0.7847 - val_loss: 0.4931 - val_acc: 0.7500\n",
      "Epoch 44/200\n",
      "576/576 [==============================] - 0s 61us/step - loss: 0.4614 - acc: 0.7830 - val_loss: 0.4930 - val_acc: 0.7500\n",
      "Epoch 45/200\n",
      "576/576 [==============================] - 0s 55us/step - loss: 0.4613 - acc: 0.7830 - val_loss: 0.4930 - val_acc: 0.7500\n",
      "Epoch 46/200\n",
      "576/576 [==============================] - 0s 73us/step - loss: 0.4612 - acc: 0.7830 - val_loss: 0.4929 - val_acc: 0.7500\n",
      "Epoch 47/200\n",
      "576/576 [==============================] - 0s 78us/step - loss: 0.4610 - acc: 0.7847 - val_loss: 0.4929 - val_acc: 0.7500\n",
      "Epoch 48/200\n",
      "576/576 [==============================] - 0s 68us/step - loss: 0.4610 - acc: 0.7847 - val_loss: 0.4928 - val_acc: 0.7500\n",
      "Epoch 49/200\n",
      "576/576 [==============================] - 0s 54us/step - loss: 0.4608 - acc: 0.7847 - val_loss: 0.4928 - val_acc: 0.7500\n",
      "Epoch 50/200\n",
      "576/576 [==============================] - 0s 55us/step - loss: 0.4607 - acc: 0.7847 - val_loss: 0.4927 - val_acc: 0.7500\n",
      "Epoch 51/200\n",
      "576/576 [==============================] - 0s 68us/step - loss: 0.4606 - acc: 0.7847 - val_loss: 0.4927 - val_acc: 0.7500\n",
      "Epoch 52/200\n",
      "576/576 [==============================] - 0s 59us/step - loss: 0.4605 - acc: 0.7847 - val_loss: 0.4926 - val_acc: 0.7500\n",
      "Epoch 53/200\n",
      "576/576 [==============================] - 0s 67us/step - loss: 0.4604 - acc: 0.7847 - val_loss: 0.4926 - val_acc: 0.7500\n",
      "Epoch 54/200\n",
      "576/576 [==============================] - 0s 75us/step - loss: 0.4602 - acc: 0.7847 - val_loss: 0.4925 - val_acc: 0.7500\n",
      "Epoch 55/200\n",
      "576/576 [==============================] - 0s 63us/step - loss: 0.4601 - acc: 0.7847 - val_loss: 0.4925 - val_acc: 0.7500\n",
      "Epoch 56/200\n",
      "576/576 [==============================] - 0s 62us/step - loss: 0.4600 - acc: 0.7847 - val_loss: 0.4925 - val_acc: 0.7500\n",
      "Epoch 57/200\n",
      "576/576 [==============================] - 0s 54us/step - loss: 0.4599 - acc: 0.7830 - val_loss: 0.4924 - val_acc: 0.7500\n",
      "Epoch 58/200\n",
      "576/576 [==============================] - 0s 66us/step - loss: 0.4598 - acc: 0.7847 - val_loss: 0.4924 - val_acc: 0.7500\n",
      "Epoch 59/200\n",
      "576/576 [==============================] - 0s 68us/step - loss: 0.4597 - acc: 0.7847 - val_loss: 0.4923 - val_acc: 0.7500\n",
      "Epoch 60/200\n",
      "576/576 [==============================] - 0s 62us/step - loss: 0.4596 - acc: 0.7830 - val_loss: 0.4923 - val_acc: 0.7500\n",
      "Epoch 61/200\n",
      "576/576 [==============================] - 0s 52us/step - loss: 0.4595 - acc: 0.7847 - val_loss: 0.4923 - val_acc: 0.7500\n",
      "Epoch 62/200\n",
      "576/576 [==============================] - 0s 55us/step - loss: 0.4593 - acc: 0.7830 - val_loss: 0.4922 - val_acc: 0.7500\n",
      "Epoch 63/200\n",
      "576/576 [==============================] - 0s 60us/step - loss: 0.4592 - acc: 0.7847 - val_loss: 0.4922 - val_acc: 0.7500\n",
      "Epoch 64/200\n",
      "576/576 [==============================] - 0s 83us/step - loss: 0.4591 - acc: 0.7830 - val_loss: 0.4922 - val_acc: 0.7552\n",
      "Epoch 65/200\n",
      "576/576 [==============================] - 0s 60us/step - loss: 0.4590 - acc: 0.7847 - val_loss: 0.4921 - val_acc: 0.7552\n",
      "Epoch 66/200\n",
      "576/576 [==============================] - 0s 54us/step - loss: 0.4590 - acc: 0.7830 - val_loss: 0.4921 - val_acc: 0.7552\n",
      "Epoch 67/200\n",
      "576/576 [==============================] - 0s 60us/step - loss: 0.4588 - acc: 0.7847 - val_loss: 0.4920 - val_acc: 0.7552\n",
      "Epoch 68/200\n",
      "576/576 [==============================] - 0s 69us/step - loss: 0.4587 - acc: 0.7830 - val_loss: 0.4920 - val_acc: 0.7552\n",
      "Epoch 69/200\n",
      "576/576 [==============================] - 0s 60us/step - loss: 0.4586 - acc: 0.7847 - val_loss: 0.4920 - val_acc: 0.7552\n",
      "Epoch 70/200\n",
      "576/576 [==============================] - 0s 63us/step - loss: 0.4585 - acc: 0.7830 - val_loss: 0.4919 - val_acc: 0.7552\n",
      "Epoch 71/200\n",
      "576/576 [==============================] - 0s 58us/step - loss: 0.4584 - acc: 0.7830 - val_loss: 0.4919 - val_acc: 0.7552\n",
      "Epoch 72/200\n",
      "576/576 [==============================] - 0s 60us/step - loss: 0.4583 - acc: 0.7830 - val_loss: 0.4919 - val_acc: 0.7552\n",
      "Epoch 73/200\n",
      "576/576 [==============================] - 0s 71us/step - loss: 0.4582 - acc: 0.7847 - val_loss: 0.4919 - val_acc: 0.7552\n",
      "Epoch 74/200\n",
      "576/576 [==============================] - 0s 56us/step - loss: 0.4581 - acc: 0.7830 - val_loss: 0.4918 - val_acc: 0.7552\n",
      "Epoch 75/200\n",
      "576/576 [==============================] - 0s 65us/step - loss: 0.4580 - acc: 0.7847 - val_loss: 0.4918 - val_acc: 0.7552\n",
      "Epoch 76/200\n",
      "576/576 [==============================] - 0s 62us/step - loss: 0.4579 - acc: 0.7847 - val_loss: 0.4918 - val_acc: 0.7552\n",
      "Epoch 77/200\n",
      "576/576 [==============================] - 0s 61us/step - loss: 0.4578 - acc: 0.7847 - val_loss: 0.4917 - val_acc: 0.7552\n",
      "Epoch 78/200\n",
      "576/576 [==============================] - 0s 59us/step - loss: 0.4577 - acc: 0.7830 - val_loss: 0.4917 - val_acc: 0.7552\n",
      "Epoch 79/200\n",
      "576/576 [==============================] - 0s 57us/step - loss: 0.4576 - acc: 0.7847 - val_loss: 0.4917 - val_acc: 0.7552\n",
      "Epoch 80/200\n",
      "576/576 [==============================] - 0s 58us/step - loss: 0.4576 - acc: 0.7847 - val_loss: 0.4916 - val_acc: 0.7552\n",
      "Epoch 81/200\n",
      "576/576 [==============================] - 0s 69us/step - loss: 0.4575 - acc: 0.7847 - val_loss: 0.4916 - val_acc: 0.7552\n",
      "Epoch 82/200\n",
      "576/576 [==============================] - 0s 60us/step - loss: 0.4573 - acc: 0.7865 - val_loss: 0.4916 - val_acc: 0.7552\n",
      "Epoch 83/200\n",
      "576/576 [==============================] - 0s 70us/step - loss: 0.4573 - acc: 0.7847 - val_loss: 0.4916 - val_acc: 0.7552\n",
      "Epoch 84/200\n",
      "576/576 [==============================] - 0s 63us/step - loss: 0.4572 - acc: 0.7865 - val_loss: 0.4916 - val_acc: 0.7552\n",
      "Epoch 85/200\n",
      "576/576 [==============================] - 0s 57us/step - loss: 0.4571 - acc: 0.7865 - val_loss: 0.4915 - val_acc: 0.7552\n",
      "Epoch 86/200\n",
      "576/576 [==============================] - 0s 75us/step - loss: 0.4570 - acc: 0.7865 - val_loss: 0.4915 - val_acc: 0.7552\n",
      "Epoch 87/200\n",
      "576/576 [==============================] - 0s 59us/step - loss: 0.4569 - acc: 0.7847 - val_loss: 0.4915 - val_acc: 0.7552\n",
      "Epoch 88/200\n",
      "576/576 [==============================] - 0s 52us/step - loss: 0.4568 - acc: 0.7882 - val_loss: 0.4915 - val_acc: 0.7552\n",
      "Epoch 89/200\n",
      "576/576 [==============================] - 0s 70us/step - loss: 0.4567 - acc: 0.7882 - val_loss: 0.4914 - val_acc: 0.7552\n",
      "Epoch 90/200\n",
      "576/576 [==============================] - 0s 65us/step - loss: 0.4566 - acc: 0.7865 - val_loss: 0.4914 - val_acc: 0.7552\n",
      "Epoch 91/200\n",
      "576/576 [==============================] - 0s 68us/step - loss: 0.4566 - acc: 0.7882 - val_loss: 0.4914 - val_acc: 0.7552\n",
      "Epoch 92/200\n",
      "576/576 [==============================] - 0s 60us/step - loss: 0.4565 - acc: 0.7847 - val_loss: 0.4914 - val_acc: 0.7552\n",
      "Epoch 93/200\n",
      "576/576 [==============================] - 0s 64us/step - loss: 0.4564 - acc: 0.7882 - val_loss: 0.4913 - val_acc: 0.7552\n",
      "Epoch 94/200\n",
      "576/576 [==============================] - 0s 61us/step - loss: 0.4563 - acc: 0.7882 - val_loss: 0.4913 - val_acc: 0.7552\n",
      "Epoch 95/200\n",
      "576/576 [==============================] - 0s 63us/step - loss: 0.4562 - acc: 0.7882 - val_loss: 0.4913 - val_acc: 0.7552\n",
      "Epoch 96/200\n",
      "576/576 [==============================] - 0s 58us/step - loss: 0.4561 - acc: 0.7865 - val_loss: 0.4913 - val_acc: 0.7552\n",
      "Epoch 97/200\n",
      "576/576 [==============================] - 0s 60us/step - loss: 0.4560 - acc: 0.7865 - val_loss: 0.4913 - val_acc: 0.7552\n",
      "Epoch 98/200\n",
      "576/576 [==============================] - 0s 66us/step - loss: 0.4560 - acc: 0.7847 - val_loss: 0.4913 - val_acc: 0.7552\n",
      "Epoch 99/200\n",
      "576/576 [==============================] - 0s 70us/step - loss: 0.4559 - acc: 0.7865 - val_loss: 0.4912 - val_acc: 0.7552\n",
      "Epoch 100/200\n",
      "576/576 [==============================] - ETA: 0s - loss: 0.4294 - acc: 0.781 - 0s 54us/step - loss: 0.4558 - acc: 0.7865 - val_loss: 0.4912 - val_acc: 0.7552\n",
      "Epoch 101/200\n",
      "576/576 [==============================] - 0s 60us/step - loss: 0.4557 - acc: 0.7847 - val_loss: 0.4912 - val_acc: 0.7552\n",
      "Epoch 102/200\n",
      "576/576 [==============================] - 0s 64us/step - loss: 0.4556 - acc: 0.7865 - val_loss: 0.4912 - val_acc: 0.7552\n",
      "Epoch 103/200\n",
      "576/576 [==============================] - 0s 55us/step - loss: 0.4555 - acc: 0.7865 - val_loss: 0.4912 - val_acc: 0.7552\n",
      "Epoch 104/200\n",
      "576/576 [==============================] - 0s 56us/step - loss: 0.4555 - acc: 0.7847 - val_loss: 0.4912 - val_acc: 0.7552\n",
      "Epoch 105/200\n",
      "576/576 [==============================] - 0s 63us/step - loss: 0.4554 - acc: 0.7847 - val_loss: 0.4911 - val_acc: 0.7552\n",
      "Epoch 106/200\n",
      "576/576 [==============================] - 0s 64us/step - loss: 0.4553 - acc: 0.7847 - val_loss: 0.4911 - val_acc: 0.7552\n",
      "Epoch 107/200\n",
      "576/576 [==============================] - 0s 61us/step - loss: 0.4552 - acc: 0.7865 - val_loss: 0.4911 - val_acc: 0.7552\n",
      "Epoch 108/200\n",
      "576/576 [==============================] - 0s 61us/step - loss: 0.4551 - acc: 0.7847 - val_loss: 0.4911 - val_acc: 0.7552\n",
      "Epoch 109/200\n",
      "576/576 [==============================] - 0s 65us/step - loss: 0.4550 - acc: 0.7865 - val_loss: 0.4911 - val_acc: 0.7552\n",
      "Epoch 110/200\n",
      "576/576 [==============================] - 0s 79us/step - loss: 0.4550 - acc: 0.7830 - val_loss: 0.4911 - val_acc: 0.7552\n",
      "Epoch 111/200\n",
      "576/576 [==============================] - 0s 63us/step - loss: 0.4549 - acc: 0.7865 - val_loss: 0.4911 - val_acc: 0.7604\n",
      "Epoch 112/200\n",
      "576/576 [==============================] - 0s 63us/step - loss: 0.4548 - acc: 0.7830 - val_loss: 0.4911 - val_acc: 0.7604\n",
      "Epoch 113/200\n",
      "576/576 [==============================] - 0s 73us/step - loss: 0.4547 - acc: 0.7830 - val_loss: 0.4911 - val_acc: 0.7604\n",
      "Epoch 114/200\n",
      "576/576 [==============================] - 0s 58us/step - loss: 0.4547 - acc: 0.7847 - val_loss: 0.4910 - val_acc: 0.7604\n",
      "Epoch 115/200\n",
      "576/576 [==============================] - 0s 84us/step - loss: 0.4546 - acc: 0.7830 - val_loss: 0.4910 - val_acc: 0.7604\n",
      "Epoch 116/200\n",
      "576/576 [==============================] - 0s 67us/step - loss: 0.4545 - acc: 0.7830 - val_loss: 0.4910 - val_acc: 0.7604\n",
      "Epoch 117/200\n",
      "576/576 [==============================] - 0s 64us/step - loss: 0.4544 - acc: 0.7830 - val_loss: 0.4910 - val_acc: 0.7604\n",
      "Epoch 118/200\n",
      "576/576 [==============================] - 0s 56us/step - loss: 0.4544 - acc: 0.7830 - val_loss: 0.4910 - val_acc: 0.7604\n",
      "Epoch 119/200\n",
      "576/576 [==============================] - 0s 60us/step - loss: 0.4543 - acc: 0.7830 - val_loss: 0.4910 - val_acc: 0.7604\n",
      "Epoch 120/200\n",
      "576/576 [==============================] - 0s 61us/step - loss: 0.4542 - acc: 0.7830 - val_loss: 0.4910 - val_acc: 0.7604\n",
      "Epoch 121/200\n"
     ]
    },
    {
     "name": "stdout",
     "output_type": "stream",
     "text": [
      "576/576 [==============================] - 0s 69us/step - loss: 0.4541 - acc: 0.7830 - val_loss: 0.4910 - val_acc: 0.7604\n",
      "Epoch 122/200\n",
      "576/576 [==============================] - 0s 53us/step - loss: 0.4541 - acc: 0.7812 - val_loss: 0.4910 - val_acc: 0.7604\n",
      "Epoch 123/200\n",
      "576/576 [==============================] - 0s 77us/step - loss: 0.4540 - acc: 0.7812 - val_loss: 0.4910 - val_acc: 0.7604\n",
      "Epoch 124/200\n",
      "576/576 [==============================] - 0s 60us/step - loss: 0.4539 - acc: 0.7812 - val_loss: 0.4910 - val_acc: 0.7604\n",
      "Epoch 125/200\n",
      "576/576 [==============================] - 0s 55us/step - loss: 0.4538 - acc: 0.7812 - val_loss: 0.4910 - val_acc: 0.7604\n",
      "Epoch 126/200\n",
      "576/576 [==============================] - 0s 51us/step - loss: 0.4538 - acc: 0.7830 - val_loss: 0.4910 - val_acc: 0.7604\n",
      "Epoch 127/200\n",
      "576/576 [==============================] - 0s 60us/step - loss: 0.4537 - acc: 0.7830 - val_loss: 0.4910 - val_acc: 0.7604\n",
      "Epoch 128/200\n",
      "576/576 [==============================] - 0s 59us/step - loss: 0.4536 - acc: 0.7830 - val_loss: 0.4910 - val_acc: 0.7604\n",
      "Epoch 129/200\n",
      "576/576 [==============================] - 0s 56us/step - loss: 0.4536 - acc: 0.7830 - val_loss: 0.4910 - val_acc: 0.7604\n",
      "Epoch 130/200\n",
      "576/576 [==============================] - 0s 68us/step - loss: 0.4535 - acc: 0.7812 - val_loss: 0.4910 - val_acc: 0.7604\n",
      "Epoch 131/200\n",
      "576/576 [==============================] - 0s 46us/step - loss: 0.4534 - acc: 0.7830 - val_loss: 0.4909 - val_acc: 0.7604\n",
      "Epoch 132/200\n",
      "576/576 [==============================] - 0s 59us/step - loss: 0.4534 - acc: 0.7830 - val_loss: 0.4909 - val_acc: 0.7604\n",
      "Epoch 133/200\n",
      "576/576 [==============================] - 0s 56us/step - loss: 0.4533 - acc: 0.7830 - val_loss: 0.4909 - val_acc: 0.7604\n",
      "Epoch 134/200\n",
      "576/576 [==============================] - 0s 73us/step - loss: 0.4532 - acc: 0.7830 - val_loss: 0.4909 - val_acc: 0.7604\n",
      "Epoch 135/200\n",
      "576/576 [==============================] - 0s 58us/step - loss: 0.4531 - acc: 0.7830 - val_loss: 0.4909 - val_acc: 0.7604\n",
      "Epoch 136/200\n",
      "576/576 [==============================] - ETA: 0s - loss: 0.4536 - acc: 0.781 - 0s 58us/step - loss: 0.4531 - acc: 0.7830 - val_loss: 0.4909 - val_acc: 0.7604\n",
      "Epoch 137/200\n",
      "576/576 [==============================] - 0s 45us/step - loss: 0.4530 - acc: 0.7812 - val_loss: 0.4909 - val_acc: 0.7604\n",
      "Epoch 138/200\n",
      "576/576 [==============================] - 0s 56us/step - loss: 0.4529 - acc: 0.7812 - val_loss: 0.4909 - val_acc: 0.7604\n",
      "Epoch 139/200\n",
      "576/576 [==============================] - 0s 59us/step - loss: 0.4529 - acc: 0.7795 - val_loss: 0.4909 - val_acc: 0.7604\n",
      "Epoch 140/200\n",
      "576/576 [==============================] - 0s 58us/step - loss: 0.4528 - acc: 0.7795 - val_loss: 0.4909 - val_acc: 0.7604\n",
      "Epoch 141/200\n",
      "576/576 [==============================] - 0s 58us/step - loss: 0.4527 - acc: 0.7795 - val_loss: 0.4909 - val_acc: 0.7552\n",
      "Epoch 142/200\n",
      "576/576 [==============================] - 0s 72us/step - loss: 0.4527 - acc: 0.7795 - val_loss: 0.4909 - val_acc: 0.7552\n",
      "Epoch 143/200\n",
      "576/576 [==============================] - 0s 59us/step - loss: 0.4526 - acc: 0.7795 - val_loss: 0.4909 - val_acc: 0.7552\n",
      "Epoch 144/200\n",
      "576/576 [==============================] - 0s 70us/step - loss: 0.4525 - acc: 0.7812 - val_loss: 0.4909 - val_acc: 0.7552\n",
      "Epoch 145/200\n",
      "576/576 [==============================] - 0s 58us/step - loss: 0.4525 - acc: 0.7812 - val_loss: 0.4909 - val_acc: 0.7552\n",
      "Epoch 146/200\n",
      "576/576 [==============================] - 0s 69us/step - loss: 0.4524 - acc: 0.7812 - val_loss: 0.4909 - val_acc: 0.7552\n",
      "Epoch 147/200\n",
      "576/576 [==============================] - ETA: 0s - loss: 0.3797 - acc: 0.812 - 0s 43us/step - loss: 0.4523 - acc: 0.7812 - val_loss: 0.4909 - val_acc: 0.7552\n",
      "Epoch 148/200\n",
      "576/576 [==============================] - 0s 58us/step - loss: 0.4523 - acc: 0.7830 - val_loss: 0.4909 - val_acc: 0.7552\n",
      "Epoch 149/200\n",
      "576/576 [==============================] - 0s 72us/step - loss: 0.4522 - acc: 0.7830 - val_loss: 0.4909 - val_acc: 0.7552\n",
      "Epoch 150/200\n",
      "576/576 [==============================] - 0s 60us/step - loss: 0.4521 - acc: 0.7830 - val_loss: 0.4909 - val_acc: 0.7552\n",
      "Epoch 151/200\n",
      "576/576 [==============================] - 0s 56us/step - loss: 0.4520 - acc: 0.7830 - val_loss: 0.4909 - val_acc: 0.7604\n",
      "Epoch 152/200\n",
      "576/576 [==============================] - ETA: 0s - loss: 0.4465 - acc: 0.750 - 0s 57us/step - loss: 0.4520 - acc: 0.7830 - val_loss: 0.4909 - val_acc: 0.7604\n",
      "Epoch 153/200\n",
      "576/576 [==============================] - 0s 58us/step - loss: 0.4519 - acc: 0.7830 - val_loss: 0.4909 - val_acc: 0.7604\n",
      "Epoch 154/200\n",
      "576/576 [==============================] - 0s 59us/step - loss: 0.4519 - acc: 0.7830 - val_loss: 0.4909 - val_acc: 0.7604\n",
      "Epoch 155/200\n",
      "576/576 [==============================] - 0s 58us/step - loss: 0.4518 - acc: 0.7830 - val_loss: 0.4909 - val_acc: 0.7604\n",
      "Epoch 156/200\n",
      "576/576 [==============================] - 0s 60us/step - loss: 0.4518 - acc: 0.7830 - val_loss: 0.4909 - val_acc: 0.7604\n",
      "Epoch 157/200\n",
      "576/576 [==============================] - 0s 58us/step - loss: 0.4517 - acc: 0.7812 - val_loss: 0.4909 - val_acc: 0.7604\n",
      "Epoch 158/200\n",
      "576/576 [==============================] - 0s 56us/step - loss: 0.4516 - acc: 0.7812 - val_loss: 0.4909 - val_acc: 0.7604\n",
      "Epoch 159/200\n",
      "576/576 [==============================] - 0s 64us/step - loss: 0.4515 - acc: 0.7812 - val_loss: 0.4910 - val_acc: 0.7604\n",
      "Epoch 160/200\n",
      "576/576 [==============================] - 0s 79us/step - loss: 0.4515 - acc: 0.7812 - val_loss: 0.4910 - val_acc: 0.7604\n",
      "Epoch 161/200\n",
      "576/576 [==============================] - 0s 77us/step - loss: 0.4514 - acc: 0.7812 - val_loss: 0.4910 - val_acc: 0.7604\n",
      "Epoch 162/200\n",
      "576/576 [==============================] - 0s 63us/step - loss: 0.4514 - acc: 0.7812 - val_loss: 0.4910 - val_acc: 0.7604\n",
      "Epoch 163/200\n",
      "576/576 [==============================] - 0s 72us/step - loss: 0.4513 - acc: 0.7812 - val_loss: 0.4910 - val_acc: 0.7604\n",
      "Epoch 164/200\n",
      "576/576 [==============================] - 0s 73us/step - loss: 0.4512 - acc: 0.7812 - val_loss: 0.4910 - val_acc: 0.7604\n",
      "Epoch 165/200\n",
      "576/576 [==============================] - 0s 69us/step - loss: 0.4512 - acc: 0.7812 - val_loss: 0.4910 - val_acc: 0.7604\n",
      "Epoch 166/200\n",
      "576/576 [==============================] - 0s 74us/step - loss: 0.4511 - acc: 0.7812 - val_loss: 0.4910 - val_acc: 0.7604\n",
      "Epoch 167/200\n",
      "576/576 [==============================] - 0s 74us/step - loss: 0.4510 - acc: 0.7812 - val_loss: 0.4910 - val_acc: 0.7604\n",
      "Epoch 168/200\n",
      "576/576 [==============================] - 0s 67us/step - loss: 0.4510 - acc: 0.7812 - val_loss: 0.4910 - val_acc: 0.7604\n",
      "Epoch 169/200\n",
      "576/576 [==============================] - 0s 65us/step - loss: 0.4509 - acc: 0.7812 - val_loss: 0.4910 - val_acc: 0.7552\n",
      "Epoch 170/200\n",
      "576/576 [==============================] - 0s 61us/step - loss: 0.4509 - acc: 0.7812 - val_loss: 0.4910 - val_acc: 0.7552\n",
      "Epoch 171/200\n",
      "576/576 [==============================] - 0s 55us/step - loss: 0.4508 - acc: 0.7812 - val_loss: 0.4910 - val_acc: 0.7552\n",
      "Epoch 172/200\n",
      "576/576 [==============================] - 0s 88us/step - loss: 0.4507 - acc: 0.7812 - val_loss: 0.4910 - val_acc: 0.7552\n",
      "Epoch 173/200\n",
      "576/576 [==============================] - 0s 85us/step - loss: 0.4506 - acc: 0.7812 - val_loss: 0.4910 - val_acc: 0.7552\n",
      "Epoch 174/200\n",
      "576/576 [==============================] - 0s 68us/step - loss: 0.4506 - acc: 0.7812 - val_loss: 0.4910 - val_acc: 0.7604\n",
      "Epoch 175/200\n",
      "576/576 [==============================] - 0s 74us/step - loss: 0.4505 - acc: 0.7812 - val_loss: 0.4910 - val_acc: 0.7604\n",
      "Epoch 176/200\n",
      "576/576 [==============================] - 0s 74us/step - loss: 0.4505 - acc: 0.7812 - val_loss: 0.4910 - val_acc: 0.7604\n",
      "Epoch 177/200\n",
      "576/576 [==============================] - 0s 64us/step - loss: 0.4504 - acc: 0.7812 - val_loss: 0.4910 - val_acc: 0.7604\n",
      "Epoch 178/200\n",
      "576/576 [==============================] - 0s 63us/step - loss: 0.4503 - acc: 0.7812 - val_loss: 0.4910 - val_acc: 0.7604\n",
      "Epoch 179/200\n",
      "576/576 [==============================] - 0s 59us/step - loss: 0.4503 - acc: 0.7812 - val_loss: 0.4910 - val_acc: 0.7604\n",
      "Epoch 180/200\n",
      "576/576 [==============================] - 0s 61us/step - loss: 0.4502 - acc: 0.7812 - val_loss: 0.4911 - val_acc: 0.7604\n",
      "Epoch 181/200\n",
      "576/576 [==============================] - 0s 60us/step - loss: 0.4502 - acc: 0.7812 - val_loss: 0.4911 - val_acc: 0.7604\n",
      "Epoch 182/200\n",
      "576/576 [==============================] - 0s 54us/step - loss: 0.4501 - acc: 0.7812 - val_loss: 0.4911 - val_acc: 0.7656\n",
      "Epoch 183/200\n",
      "576/576 [==============================] - 0s 62us/step - loss: 0.4500 - acc: 0.7812 - val_loss: 0.4911 - val_acc: 0.7656\n",
      "Epoch 184/200\n",
      "576/576 [==============================] - 0s 68us/step - loss: 0.4500 - acc: 0.7812 - val_loss: 0.4911 - val_acc: 0.7656\n",
      "Epoch 185/200\n",
      "576/576 [==============================] - 0s 69us/step - loss: 0.4499 - acc: 0.7812 - val_loss: 0.4911 - val_acc: 0.7656\n",
      "Epoch 186/200\n",
      "576/576 [==============================] - 0s 59us/step - loss: 0.4498 - acc: 0.7812 - val_loss: 0.4911 - val_acc: 0.7656\n",
      "Epoch 187/200\n",
      "576/576 [==============================] - 0s 62us/step - loss: 0.4498 - acc: 0.7812 - val_loss: 0.4911 - val_acc: 0.7656\n",
      "Epoch 188/200\n",
      "576/576 [==============================] - 0s 54us/step - loss: 0.4497 - acc: 0.7812 - val_loss: 0.4911 - val_acc: 0.7656\n",
      "Epoch 189/200\n",
      "576/576 [==============================] - 0s 69us/step - loss: 0.4497 - acc: 0.7812 - val_loss: 0.4911 - val_acc: 0.7656\n",
      "Epoch 190/200\n",
      "576/576 [==============================] - 0s 69us/step - loss: 0.4496 - acc: 0.7812 - val_loss: 0.4911 - val_acc: 0.7656\n",
      "Epoch 191/200\n",
      "576/576 [==============================] - 0s 60us/step - loss: 0.4495 - acc: 0.7830 - val_loss: 0.4911 - val_acc: 0.7656\n",
      "Epoch 192/200\n",
      "576/576 [==============================] - 0s 67us/step - loss: 0.4495 - acc: 0.7830 - val_loss: 0.4911 - val_acc: 0.7656\n",
      "Epoch 193/200\n",
      "576/576 [==============================] - 0s 70us/step - loss: 0.4494 - acc: 0.7830 - val_loss: 0.4911 - val_acc: 0.7656\n",
      "Epoch 194/200\n",
      "576/576 [==============================] - 0s 69us/step - loss: 0.4493 - acc: 0.7830 - val_loss: 0.4911 - val_acc: 0.7656\n",
      "Epoch 195/200\n",
      "576/576 [==============================] - 0s 65us/step - loss: 0.4493 - acc: 0.7830 - val_loss: 0.4911 - val_acc: 0.7656\n",
      "Epoch 196/200\n",
      "576/576 [==============================] - 0s 63us/step - loss: 0.4492 - acc: 0.7830 - val_loss: 0.4911 - val_acc: 0.7656\n",
      "Epoch 197/200\n",
      "576/576 [==============================] - 0s 72us/step - loss: 0.4491 - acc: 0.7812 - val_loss: 0.4912 - val_acc: 0.7656\n",
      "Epoch 198/200\n",
      "576/576 [==============================] - 0s 64us/step - loss: 0.4491 - acc: 0.7830 - val_loss: 0.4912 - val_acc: 0.7656\n",
      "Epoch 199/200\n",
      "576/576 [==============================] - 0s 77us/step - loss: 0.4490 - acc: 0.7830 - val_loss: 0.4912 - val_acc: 0.7656\n",
      "Epoch 200/200\n",
      "576/576 [==============================] - 0s 74us/step - loss: 0.4490 - acc: 0.7830 - val_loss: 0.4912 - val_acc: 0.7656\n"
     ]
    }
   ],
   "source": [
    "model_1.compile(SGD(lr = .003), \"binary_crossentropy\", metrics=[\"accuracy\"])\n",
    "run_hist_1 = model_1.fit(X_train_norm, y_train, validation_data=(X_test_norm, y_test), epochs=200)"
   ]
  },
  {
   "cell_type": "code",
   "execution_count": 23,
   "metadata": {},
   "outputs": [],
   "source": [
    "y_pred_class_nn_1 = model_1.predict_classes(X_test_norm)\n",
    "y_pred_prob_nn_1 = model_1.predict(X_test_norm)"
   ]
  },
  {
   "cell_type": "code",
   "execution_count": 24,
   "metadata": {},
   "outputs": [
    {
     "data": {
      "text/plain": [
       "array([[1],\n",
       "       [1],\n",
       "       [0],\n",
       "       [0],\n",
       "       [0],\n",
       "       [0],\n",
       "       [0],\n",
       "       [0],\n",
       "       [1],\n",
       "       [0]])"
      ]
     },
     "execution_count": 24,
     "metadata": {},
     "output_type": "execute_result"
    }
   ],
   "source": [
    "y_pred_class_nn_1[:10]"
   ]
  },
  {
   "cell_type": "code",
   "execution_count": 25,
   "metadata": {},
   "outputs": [
    {
     "data": {
      "text/plain": [
       "array([[0.5193864 ],\n",
       "       [0.65645045],\n",
       "       [0.3038667 ],\n",
       "       [0.32708207],\n",
       "       [0.14101179],\n",
       "       [0.4818973 ],\n",
       "       [0.03096959],\n",
       "       [0.36212036],\n",
       "       [0.89908355],\n",
       "       [0.11148386]], dtype=float32)"
      ]
     },
     "execution_count": 25,
     "metadata": {},
     "output_type": "execute_result"
    }
   ],
   "source": [
    "y_pred_prob_nn_1[:10]"
   ]
  },
  {
   "cell_type": "code",
   "execution_count": 26,
   "metadata": {},
   "outputs": [
    {
     "name": "stdout",
     "output_type": "stream",
     "text": [
      "accuracy is 0.766\n",
      "roc-auc is 0.816\n"
     ]
    },
    {
     "data": {
      "image/png": "[encoded data removed]",
      "text/plain": [
       "<Figure size 576x576 with 1 Axes>"
      ]
     },
     "metadata": {
      "needs_background": "light"
     },
     "output_type": "display_data"
    }
   ],
   "source": [
    "print('accuracy is {:.3f}'.format(accuracy_score(y_test,y_pred_class_nn_1)))\n",
    "print('roc-auc is {:.3f}'.format(roc_auc_score(y_test,y_pred_prob_nn_1)))\n",
    "\n",
    "plot_roc(y_test, y_pred_prob_nn_1, 'NN')"
   ]
  },
  {
   "cell_type": "code",
   "execution_count": 28,
   "metadata": {},
   "outputs": [
    {
     "data": {
      "text/plain": [
       "dict_keys(['val_loss', 'val_acc', 'loss', 'acc'])"
      ]
     },
     "execution_count": 28,
     "metadata": {},
     "output_type": "execute_result"
    }
   ],
   "source": [
    "run_hist_1.history.keys()"
   ]
  },
  {
   "cell_type": "code",
   "execution_count": 29,
   "metadata": {},
   "outputs": [
    {
     "data": {
      "text/plain": [
       "<matplotlib.legend.Legend at 0x1b97aa34080>"
      ]
     },
     "execution_count": 29,
     "metadata": {},
     "output_type": "execute_result"
    },
    {
     "data": {
      "image/png": "[encoded data removed]",
      "text/plain": [
       "<Figure size 432x288 with 1 Axes>"
      ]
     },
     "metadata": {
      "needs_background": "light"
     },
     "output_type": "display_data"
    }
   ],
   "source": [
    "fig, ax = plt.subplots()\n",
    "ax.plot(run_hist_1.history[\"loss\"],'r', marker='.', label=\"Train Loss\")\n",
    "ax.plot(run_hist_1.history[\"val_loss\"],'b', marker='.', label=\"Validation Loss\")\n",
    "ax.legend()"
   ]
  },
  {
   "cell_type": "raw",
   "metadata": {},
   "source": [
    "model_1 = Sequential([\n",
    "    Dense(12, input_shape=(8,), activation=\"relu\"),\n",
    "    Dense(1, activation=\"sigmoid\")\n",
    "])"
   ]
  },
  {
   "cell_type": "code",
   "execution_count": 41,
   "metadata": {},
   "outputs": [
    {
     "name": "stdout",
     "output_type": "stream",
     "text": [
      "Our accuracy is 257.89473684210526%\n"
     ]
    },
    {
     "data": {
      "image/png": "[encoded data removed]",
      "text/plain": [
       "<Figure size 432x288 with 2 Axes>"
      ]
     },
     "metadata": {
      "needs_background": "light"
     },
     "output_type": "display_data"
    }
   ],
   "source": [
    "from sklearn.metrics import confusion_matrix\n",
    "import seaborn as sns\n",
    "cm = confusion_matrix(y_test, y_pred_class_nn_1)\n",
    "print(\"Our accuracy is {}%\".format(((cm[0][0] + cm[1][1])/57)*100))\n",
    "sns.heatmap(cm,annot=True, fmt=\".1f\")\n",
    "plt.savefig('g.png')"
   ]
  },
  {
   "cell_type": "code",
   "execution_count": null,
   "metadata": {},
   "outputs": [],
   "source": []
  }
 ],
 "metadata": {
  "kernelspec": {
   "display_name": "Python 3",
   "language": "python",
   "name": "python3"
  },
  "language_info": {
   "codemirror_mode": {
    "name": "ipython",
    "version": 3
   },
   "file_extension": ".py",
   "mimetype": "text/x-python",
   "name": "python",
   "nbconvert_exporter": "python",
   "pygments_lexer": "ipython3",
   "version": "3.6.12"
  }
 },
 "nbformat": 4,
 "nbformat_minor": 4
}
